{
 "cells": [
  {
   "cell_type": "code",
   "execution_count": 1,
   "id": "4afe14fe",
   "metadata": {},
   "outputs": [
    {
     "name": "stdout",
     "output_type": "stream",
     "text": [
      "Enter your opening balance30000\n",
      "Enter your monthly contributions4000\n",
      "Gross dividends for the whole year: 7800.0\n",
      "Net dividends after withholding tax: 7410.0\n"
     ]
    }
   ],
   "source": [
    "def compute_dividends(opening_balance, monthly_contribution, interest_rate):\n",
    "    \"\"\"\n",
    "    Compute dividends for Riverside Engineers Sacco.\n",
    "\n",
    "    Args:\n",
    "    - opening_balance: The opening balance as at December 2019.\n",
    "    - monthly_contribution: The monthly contribution amount.\n",
    "    - interest_rate: The interest rate on deposits (in percentage).\n",
    "\n",
    "    Returns:\n",
    "    - gross_dividends: Gross dividends earned for the whole year.\n",
    "    - net_dividends: Net dividends after deducting 5% withholding tax.\n",
    "    \"\"\"\n",
    "    # Calculate earnings from opening balance\n",
    "    opening_balance_earnings = opening_balance * (interest_rate / 100)\n",
    "\n",
    "    # Calculate earnings from monthly contributions\n",
    "    monthly_earnings = monthly_contribution * 12 * (interest_rate / 100)\n",
    "\n",
    "    # Compute gross dividends\n",
    "    gross_dividends = opening_balance_earnings + monthly_earnings\n",
    "\n",
    "    # Compute net dividends after deducting 5% withholding tax\n",
    "    withholding_tax = gross_dividends * 0.05\n",
    "    net_dividends = gross_dividends - withholding_tax\n",
    "\n",
    "    return gross_dividends, net_dividends\n",
    "\n",
    "# Input data\n",
    "opening_balance = float(input(\"Enter your opening balance\"))\n",
    "monthly_contribution = float(input(\"Enter your monthly contributions\"))\n",
    "interest_rate = 10\n",
    "\n",
    "# Compute dividends\n",
    "gross_dividends, net_dividends = compute_dividends(opening_balance, monthly_contribution, interest_rate)\n",
    "\n",
    "# Print results\n",
    "print(\"Gross dividends for the whole year:\", gross_dividends)\n",
    "print(\"Net dividends after withholding tax:\", net_dividends)"
   ]
  },
  {
   "cell_type": "code",
   "execution_count": null,
   "id": "a2049493",
   "metadata": {},
   "outputs": [],
   "source": []
  }
 ],
 "metadata": {
  "kernelspec": {
   "display_name": "Python 3 (ipykernel)",
   "language": "python",
   "name": "python3"
  },
  "language_info": {
   "codemirror_mode": {
    "name": "ipython",
    "version": 3
   },
   "file_extension": ".py",
   "mimetype": "text/x-python",
   "name": "python",
   "nbconvert_exporter": "python",
   "pygments_lexer": "ipython3",
   "version": "3.11.5"
  }
 },
 "nbformat": 4,
 "nbformat_minor": 5
}
